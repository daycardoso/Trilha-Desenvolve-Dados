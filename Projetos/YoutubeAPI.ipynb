{
 "cells": [
  {
   "cell_type": "code",
   "execution_count": 15,
   "metadata": {},
   "outputs": [
    {
     "name": "stdout",
     "output_type": "stream",
     "text": [
      "Requirement already satisfied: notebook in c:\\users\\dayan\\appdata\\local\\programs\\python\\python311\\lib\\site-packages (6.5.2)\n",
      "Requirement already satisfied: jinja2 in c:\\users\\dayan\\appdata\\local\\programs\\python\\python311\\lib\\site-packages (from notebook) (3.1.2)\n",
      "Requirement already satisfied: tornado>=6.1 in c:\\users\\dayan\\appdata\\roaming\\python\\python311\\site-packages (from notebook) (6.2)\n",
      "Requirement already satisfied: pyzmq>=17 in c:\\users\\dayan\\appdata\\roaming\\python\\python311\\site-packages (from notebook) (25.0.0)\n",
      "Requirement already satisfied: argon2-cffi in c:\\users\\dayan\\appdata\\local\\programs\\python\\python311\\lib\\site-packages (from notebook) (21.3.0)\n",
      "Requirement already satisfied: traitlets>=4.2.1 in c:\\users\\dayan\\appdata\\roaming\\python\\python311\\site-packages (from notebook) (5.9.0)\n",
      "Requirement already satisfied: jupyter-core>=4.6.1 in c:\\users\\dayan\\appdata\\roaming\\python\\python311\\site-packages (from notebook) (5.2.0)\n",
      "Requirement already satisfied: jupyter-client>=5.3.4 in c:\\users\\dayan\\appdata\\roaming\\python\\python311\\site-packages (from notebook) (8.0.2)\n",
      "Requirement already satisfied: ipython-genutils in c:\\users\\dayan\\appdata\\local\\programs\\python\\python311\\lib\\site-packages (from notebook) (0.2.0)\n",
      "Requirement already satisfied: nbformat in c:\\users\\dayan\\appdata\\local\\programs\\python\\python311\\lib\\site-packages (from notebook) (5.7.3)\n",
      "Requirement already satisfied: nbconvert>=5 in c:\\users\\dayan\\appdata\\local\\programs\\python\\python311\\lib\\site-packages (from notebook) (7.2.9)\n",
      "Requirement already satisfied: nest-asyncio>=1.5 in c:\\users\\dayan\\appdata\\roaming\\python\\python311\\site-packages (from notebook) (1.5.6)\n",
      "Requirement already satisfied: ipykernel in c:\\users\\dayan\\appdata\\roaming\\python\\python311\\site-packages (from notebook) (6.21.2)\n",
      "Requirement already satisfied: Send2Trash>=1.8.0 in c:\\users\\dayan\\appdata\\local\\programs\\python\\python311\\lib\\site-packages (from notebook) (1.8.0)\n",
      "Requirement already satisfied: terminado>=0.8.3 in c:\\users\\dayan\\appdata\\local\\programs\\python\\python311\\lib\\site-packages (from notebook) (0.17.1)\n",
      "Requirement already satisfied: prometheus-client in c:\\users\\dayan\\appdata\\local\\programs\\python\\python311\\lib\\site-packages (from notebook) (0.16.0)\n",
      "Requirement already satisfied: nbclassic>=0.4.7 in c:\\users\\dayan\\appdata\\local\\programs\\python\\python311\\lib\\site-packages (from notebook) (0.5.1)\n",
      "Requirement already satisfied: python-dateutil>=2.8.2 in c:\\users\\dayan\\appdata\\roaming\\python\\python311\\site-packages (from jupyter-client>=5.3.4->notebook) (2.8.2)\n",
      "Requirement already satisfied: platformdirs>=2.5 in c:\\users\\dayan\\appdata\\roaming\\python\\python311\\site-packages (from jupyter-core>=4.6.1->notebook) (3.0.0)\n",
      "Requirement already satisfied: pywin32>=1.0 in c:\\users\\dayan\\appdata\\roaming\\python\\python311\\site-packages (from jupyter-core>=4.6.1->notebook) (305)\n",
      "Requirement already satisfied: jupyter-server>=1.17.0 in c:\\users\\dayan\\appdata\\local\\programs\\python\\python311\\lib\\site-packages (from nbclassic>=0.4.7->notebook) (2.2.1)\n",
      "Requirement already satisfied: notebook-shim>=0.1.0 in c:\\users\\dayan\\appdata\\local\\programs\\python\\python311\\lib\\site-packages (from nbclassic>=0.4.7->notebook) (0.2.2)\n",
      "Requirement already satisfied: beautifulsoup4 in c:\\users\\dayan\\appdata\\local\\programs\\python\\python311\\lib\\site-packages (from nbconvert>=5->notebook) (4.11.2)\n",
      "Requirement already satisfied: bleach in c:\\users\\dayan\\appdata\\local\\programs\\python\\python311\\lib\\site-packages (from nbconvert>=5->notebook) (6.0.0)\n",
      "Requirement already satisfied: defusedxml in c:\\users\\dayan\\appdata\\local\\programs\\python\\python311\\lib\\site-packages (from nbconvert>=5->notebook) (0.7.1)\n",
      "Requirement already satisfied: jupyterlab-pygments in c:\\users\\dayan\\appdata\\local\\programs\\python\\python311\\lib\\site-packages (from nbconvert>=5->notebook) (0.2.2)\n",
      "Requirement already satisfied: markupsafe>=2.0 in c:\\users\\dayan\\appdata\\local\\programs\\python\\python311\\lib\\site-packages (from nbconvert>=5->notebook) (2.1.2)\n",
      "Requirement already satisfied: mistune<3,>=2.0.3 in c:\\users\\dayan\\appdata\\local\\programs\\python\\python311\\lib\\site-packages (from nbconvert>=5->notebook) (2.0.5)\n",
      "Requirement already satisfied: nbclient>=0.5.0 in c:\\users\\dayan\\appdata\\local\\programs\\python\\python311\\lib\\site-packages (from nbconvert>=5->notebook) (0.7.2)\n",
      "Requirement already satisfied: packaging in c:\\users\\dayan\\appdata\\roaming\\python\\python311\\site-packages (from nbconvert>=5->notebook) (23.0)\n",
      "Requirement already satisfied: pandocfilters>=1.4.1 in c:\\users\\dayan\\appdata\\local\\programs\\python\\python311\\lib\\site-packages (from nbconvert>=5->notebook) (1.5.0)\n",
      "Requirement already satisfied: pygments>=2.4.1 in c:\\users\\dayan\\appdata\\roaming\\python\\python311\\site-packages (from nbconvert>=5->notebook) (2.14.0)\n",
      "Requirement already satisfied: tinycss2 in c:\\users\\dayan\\appdata\\local\\programs\\python\\python311\\lib\\site-packages (from nbconvert>=5->notebook) (1.2.1)\n",
      "Requirement already satisfied: fastjsonschema in c:\\users\\dayan\\appdata\\local\\programs\\python\\python311\\lib\\site-packages (from nbformat->notebook) (2.16.2)\n",
      "Requirement already satisfied: jsonschema>=2.6 in c:\\users\\dayan\\appdata\\local\\programs\\python\\python311\\lib\\site-packages (from nbformat->notebook) (4.17.3)\n",
      "Requirement already satisfied: pywinpty>=1.1.0 in c:\\users\\dayan\\appdata\\local\\programs\\python\\python311\\lib\\site-packages (from terminado>=0.8.3->notebook) (2.0.10)\n",
      "Requirement already satisfied: argon2-cffi-bindings in c:\\users\\dayan\\appdata\\local\\programs\\python\\python311\\lib\\site-packages (from argon2-cffi->notebook) (21.2.0)\n",
      "Requirement already satisfied: comm>=0.1.1 in c:\\users\\dayan\\appdata\\roaming\\python\\python311\\site-packages (from ipykernel->notebook) (0.1.2)\n",
      "Requirement already satisfied: debugpy>=1.6.5 in c:\\users\\dayan\\appdata\\roaming\\python\\python311\\site-packages (from ipykernel->notebook) (1.6.6)\n",
      "Requirement already satisfied: ipython>=7.23.1 in c:\\users\\dayan\\appdata\\roaming\\python\\python311\\site-packages (from ipykernel->notebook) (8.10.0)\n",
      "Requirement already satisfied: matplotlib-inline>=0.1 in c:\\users\\dayan\\appdata\\roaming\\python\\python311\\site-packages (from ipykernel->notebook) (0.1.6)\n",
      "Requirement already satisfied: psutil in c:\\users\\dayan\\appdata\\roaming\\python\\python311\\site-packages (from ipykernel->notebook) (5.9.4)\n",
      "Requirement already satisfied: backcall in c:\\users\\dayan\\appdata\\roaming\\python\\python311\\site-packages (from ipython>=7.23.1->ipykernel->notebook) (0.2.0)\n",
      "Requirement already satisfied: decorator in c:\\users\\dayan\\appdata\\roaming\\python\\python311\\site-packages (from ipython>=7.23.1->ipykernel->notebook) (5.1.1)\n",
      "Requirement already satisfied: jedi>=0.16 in c:\\users\\dayan\\appdata\\roaming\\python\\python311\\site-packages (from ipython>=7.23.1->ipykernel->notebook) (0.18.2)\n",
      "Requirement already satisfied: pickleshare in c:\\users\\dayan\\appdata\\roaming\\python\\python311\\site-packages (from ipython>=7.23.1->ipykernel->notebook) (0.7.5)\n",
      "Requirement already satisfied: prompt-toolkit<3.1.0,>=3.0.30 in c:\\users\\dayan\\appdata\\roaming\\python\\python311\\site-packages (from ipython>=7.23.1->ipykernel->notebook) (3.0.36)\n",
      "Requirement already satisfied: stack-data in c:\\users\\dayan\\appdata\\roaming\\python\\python311\\site-packages (from ipython>=7.23.1->ipykernel->notebook) (0.6.2)\n",
      "Requirement already satisfied: colorama in c:\\users\\dayan\\appdata\\roaming\\python\\python311\\site-packages (from ipython>=7.23.1->ipykernel->notebook) (0.4.6)\n",
      "Requirement already satisfied: attrs>=17.4.0 in c:\\users\\dayan\\appdata\\local\\programs\\python\\python311\\lib\\site-packages (from jsonschema>=2.6->nbformat->notebook) (22.2.0)\n",
      "Requirement already satisfied: pyrsistent!=0.17.0,!=0.17.1,!=0.17.2,>=0.14.0 in c:\\users\\dayan\\appdata\\local\\programs\\python\\python311\\lib\\site-packages (from jsonschema>=2.6->nbformat->notebook) (0.19.3)\n",
      "Requirement already satisfied: anyio>=3.1.0 in c:\\users\\dayan\\appdata\\local\\programs\\python\\python311\\lib\\site-packages (from jupyter-server>=1.17.0->nbclassic>=0.4.7->notebook) (3.6.2)\n",
      "Requirement already satisfied: jupyter-events>=0.4.0 in c:\\users\\dayan\\appdata\\local\\programs\\python\\python311\\lib\\site-packages (from jupyter-server>=1.17.0->nbclassic>=0.4.7->notebook) (0.6.3)\n",
      "Requirement already satisfied: jupyter-server-terminals in c:\\users\\dayan\\appdata\\local\\programs\\python\\python311\\lib\\site-packages (from jupyter-server>=1.17.0->nbclassic>=0.4.7->notebook) (0.4.4)\n",
      "Requirement already satisfied: websocket-client in c:\\users\\dayan\\appdata\\local\\programs\\python\\python311\\lib\\site-packages (from jupyter-server>=1.17.0->nbclassic>=0.4.7->notebook) (1.5.1)\n",
      "Requirement already satisfied: six>=1.5 in c:\\users\\dayan\\appdata\\roaming\\python\\python311\\site-packages (from python-dateutil>=2.8.2->jupyter-client>=5.3.4->notebook) (1.16.0)\n",
      "Requirement already satisfied: cffi>=1.0.1 in c:\\users\\dayan\\appdata\\local\\programs\\python\\python311\\lib\\site-packages (from argon2-cffi-bindings->argon2-cffi->notebook) (1.15.1)\n",
      "Requirement already satisfied: soupsieve>1.2 in c:\\users\\dayan\\appdata\\local\\programs\\python\\python311\\lib\\site-packages (from beautifulsoup4->nbconvert>=5->notebook) (2.4)\n",
      "Requirement already satisfied: webencodings in c:\\users\\dayan\\appdata\\local\\programs\\python\\python311\\lib\\site-packages (from bleach->nbconvert>=5->notebook) (0.5.1)\n",
      "Requirement already satisfied: idna>=2.8 in c:\\users\\dayan\\appdata\\local\\programs\\python\\python311\\lib\\site-packages (from anyio>=3.1.0->jupyter-server>=1.17.0->nbclassic>=0.4.7->notebook) (3.4)\n",
      "Requirement already satisfied: sniffio>=1.1 in c:\\users\\dayan\\appdata\\local\\programs\\python\\python311\\lib\\site-packages (from anyio>=3.1.0->jupyter-server>=1.17.0->nbclassic>=0.4.7->notebook) (1.3.0)\n",
      "Requirement already satisfied: pycparser in c:\\users\\dayan\\appdata\\local\\programs\\python\\python311\\lib\\site-packages (from cffi>=1.0.1->argon2-cffi-bindings->argon2-cffi->notebook) (2.21)\n",
      "Requirement already satisfied: parso<0.9.0,>=0.8.0 in c:\\users\\dayan\\appdata\\roaming\\python\\python311\\site-packages (from jedi>=0.16->ipython>=7.23.1->ipykernel->notebook) (0.8.3)\n",
      "Requirement already satisfied: python-json-logger>=2.0.4 in c:\\users\\dayan\\appdata\\local\\programs\\python\\python311\\lib\\site-packages (from jupyter-events>=0.4.0->jupyter-server>=1.17.0->nbclassic>=0.4.7->notebook) (2.0.6)\n",
      "Requirement already satisfied: pyyaml>=5.3 in c:\\users\\dayan\\appdata\\local\\programs\\python\\python311\\lib\\site-packages (from jupyter-events>=0.4.0->jupyter-server>=1.17.0->nbclassic>=0.4.7->notebook) (6.0)\n",
      "Requirement already satisfied: rfc3339-validator in c:\\users\\dayan\\appdata\\local\\programs\\python\\python311\\lib\\site-packages (from jupyter-events>=0.4.0->jupyter-server>=1.17.0->nbclassic>=0.4.7->notebook) (0.1.4)\n",
      "Requirement already satisfied: rfc3986-validator>=0.1.1 in c:\\users\\dayan\\appdata\\local\\programs\\python\\python311\\lib\\site-packages (from jupyter-events>=0.4.0->jupyter-server>=1.17.0->nbclassic>=0.4.7->notebook) (0.1.1)\n",
      "Requirement already satisfied: wcwidth in c:\\users\\dayan\\appdata\\roaming\\python\\python311\\site-packages (from prompt-toolkit<3.1.0,>=3.0.30->ipython>=7.23.1->ipykernel->notebook) (0.2.6)\n",
      "Requirement already satisfied: executing>=1.2.0 in c:\\users\\dayan\\appdata\\roaming\\python\\python311\\site-packages (from stack-data->ipython>=7.23.1->ipykernel->notebook) (1.2.0)\n",
      "Requirement already satisfied: asttokens>=2.1.0 in c:\\users\\dayan\\appdata\\roaming\\python\\python311\\site-packages (from stack-data->ipython>=7.23.1->ipykernel->notebook) (2.2.1)\n",
      "Requirement already satisfied: pure-eval in c:\\users\\dayan\\appdata\\roaming\\python\\python311\\site-packages (from stack-data->ipython>=7.23.1->ipykernel->notebook) (0.2.2)\n",
      "Requirement already satisfied: fqdn in c:\\users\\dayan\\appdata\\local\\programs\\python\\python311\\lib\\site-packages (from jsonschema>=2.6->nbformat->notebook) (1.5.1)\n",
      "Requirement already satisfied: isoduration in c:\\users\\dayan\\appdata\\local\\programs\\python\\python311\\lib\\site-packages (from jsonschema>=2.6->nbformat->notebook) (20.11.0)\n",
      "Requirement already satisfied: jsonpointer>1.13 in c:\\users\\dayan\\appdata\\local\\programs\\python\\python311\\lib\\site-packages (from jsonschema>=2.6->nbformat->notebook) (2.3)\n",
      "Requirement already satisfied: uri-template in c:\\users\\dayan\\appdata\\local\\programs\\python\\python311\\lib\\site-packages (from jsonschema>=2.6->nbformat->notebook) (1.2.0)\n",
      "Requirement already satisfied: webcolors>=1.11 in c:\\users\\dayan\\appdata\\local\\programs\\python\\python311\\lib\\site-packages (from jsonschema>=2.6->nbformat->notebook) (1.12)\n",
      "Requirement already satisfied: arrow>=0.15.0 in c:\\users\\dayan\\appdata\\local\\programs\\python\\python311\\lib\\site-packages (from isoduration->jsonschema>=2.6->nbformat->notebook) (1.2.3)\n",
      "Note: you may need to restart the kernel to use updated packages.\n"
     ]
    }
   ],
   "source": [
    "pip install notebook --upgrade"
   ]
  },
  {
   "cell_type": "code",
   "execution_count": 16,
   "metadata": {},
   "outputs": [
    {
     "name": "stdout",
     "output_type": "stream",
     "text": [
      "Requirement already satisfied: setuptools in c:\\users\\dayan\\appdata\\local\\programs\\python\\python311\\lib\\site-packages (67.3.1)Note: you may need to restart the kernel to use updated packages.\n",
      "\n"
     ]
    }
   ],
   "source": [
    "pip install --upgrade setuptools"
   ]
  },
  {
   "cell_type": "code",
   "execution_count": 17,
   "metadata": {},
   "outputs": [
    {
     "name": "stdout",
     "output_type": "stream",
     "text": [
      "Requirement already satisfied: google-api-python-client in c:\\users\\dayan\\appdata\\local\\programs\\python\\python311\\lib\\site-packages (2.78.0)Note: you may need to restart the kernel to use updated packages.\n",
      "\n",
      "Requirement already satisfied: httplib2<1dev,>=0.15.0 in c:\\users\\dayan\\appdata\\local\\programs\\python\\python311\\lib\\site-packages (from google-api-python-client) (0.21.0)\n",
      "Requirement already satisfied: google-auth<3.0.0dev,>=1.19.0 in c:\\users\\dayan\\appdata\\local\\programs\\python\\python311\\lib\\site-packages (from google-api-python-client) (2.16.0)\n",
      "Requirement already satisfied: google-auth-httplib2>=0.1.0 in c:\\users\\dayan\\appdata\\local\\programs\\python\\python311\\lib\\site-packages (from google-api-python-client) (0.1.0)\n",
      "Requirement already satisfied: google-api-core!=2.0.*,!=2.1.*,!=2.2.*,!=2.3.0,<3.0.0dev,>=1.31.5 in c:\\users\\dayan\\appdata\\local\\programs\\python\\python311\\lib\\site-packages (from google-api-python-client) (2.11.0)\n",
      "Requirement already satisfied: uritemplate<5,>=3.0.1 in c:\\users\\dayan\\appdata\\local\\programs\\python\\python311\\lib\\site-packages (from google-api-python-client) (4.1.1)\n",
      "Requirement already satisfied: googleapis-common-protos<2.0dev,>=1.56.2 in c:\\users\\dayan\\appdata\\local\\programs\\python\\python311\\lib\\site-packages (from google-api-core!=2.0.*,!=2.1.*,!=2.2.*,!=2.3.0,<3.0.0dev,>=1.31.5->google-api-python-client) (1.58.0)\n",
      "Requirement already satisfied: protobuf!=3.20.0,!=3.20.1,!=4.21.0,!=4.21.1,!=4.21.2,!=4.21.3,!=4.21.4,!=4.21.5,<5.0.0dev,>=3.19.5 in c:\\users\\dayan\\appdata\\local\\programs\\python\\python311\\lib\\site-packages (from google-api-core!=2.0.*,!=2.1.*,!=2.2.*,!=2.3.0,<3.0.0dev,>=1.31.5->google-api-python-client) (4.21.12)\n",
      "Requirement already satisfied: requests<3.0.0dev,>=2.18.0 in c:\\users\\dayan\\appdata\\local\\programs\\python\\python311\\lib\\site-packages (from google-api-core!=2.0.*,!=2.1.*,!=2.2.*,!=2.3.0,<3.0.0dev,>=1.31.5->google-api-python-client) (2.28.2)\n",
      "Requirement already satisfied: cachetools<6.0,>=2.0.0 in c:\\users\\dayan\\appdata\\local\\programs\\python\\python311\\lib\\site-packages (from google-auth<3.0.0dev,>=1.19.0->google-api-python-client) (5.3.0)\n",
      "Requirement already satisfied: pyasn1-modules>=0.2.1 in c:\\users\\dayan\\appdata\\local\\programs\\python\\python311\\lib\\site-packages (from google-auth<3.0.0dev,>=1.19.0->google-api-python-client) (0.2.8)\n",
      "Requirement already satisfied: six>=1.9.0 in c:\\users\\dayan\\appdata\\roaming\\python\\python311\\site-packages (from google-auth<3.0.0dev,>=1.19.0->google-api-python-client) (1.16.0)\n",
      "Requirement already satisfied: rsa<5,>=3.1.4 in c:\\users\\dayan\\appdata\\local\\programs\\python\\python311\\lib\\site-packages (from google-auth<3.0.0dev,>=1.19.0->google-api-python-client) (4.9)\n",
      "Requirement already satisfied: pyparsing!=3.0.0,!=3.0.1,!=3.0.2,!=3.0.3,<4,>=2.4.2 in c:\\users\\dayan\\appdata\\local\\programs\\python\\python311\\lib\\site-packages (from httplib2<1dev,>=0.15.0->google-api-python-client) (3.0.9)\n",
      "Requirement already satisfied: pyasn1<0.5.0,>=0.4.6 in c:\\users\\dayan\\appdata\\local\\programs\\python\\python311\\lib\\site-packages (from pyasn1-modules>=0.2.1->google-auth<3.0.0dev,>=1.19.0->google-api-python-client) (0.4.8)\n",
      "Requirement already satisfied: charset-normalizer<4,>=2 in c:\\users\\dayan\\appdata\\local\\programs\\python\\python311\\lib\\site-packages (from requests<3.0.0dev,>=2.18.0->google-api-core!=2.0.*,!=2.1.*,!=2.2.*,!=2.3.0,<3.0.0dev,>=1.31.5->google-api-python-client) (3.0.1)\n",
      "Requirement already satisfied: idna<4,>=2.5 in c:\\users\\dayan\\appdata\\local\\programs\\python\\python311\\lib\\site-packages (from requests<3.0.0dev,>=2.18.0->google-api-core!=2.0.*,!=2.1.*,!=2.2.*,!=2.3.0,<3.0.0dev,>=1.31.5->google-api-python-client) (3.4)\n",
      "Requirement already satisfied: urllib3<1.27,>=1.21.1 in c:\\users\\dayan\\appdata\\local\\programs\\python\\python311\\lib\\site-packages (from requests<3.0.0dev,>=2.18.0->google-api-core!=2.0.*,!=2.1.*,!=2.2.*,!=2.3.0,<3.0.0dev,>=1.31.5->google-api-python-client) (1.26.14)\n",
      "Requirement already satisfied: certifi>=2017.4.17 in c:\\users\\dayan\\appdata\\local\\programs\\python\\python311\\lib\\site-packages (from requests<3.0.0dev,>=2.18.0->google-api-core!=2.0.*,!=2.1.*,!=2.2.*,!=2.3.0,<3.0.0dev,>=1.31.5->google-api-python-client) (2022.12.7)\n"
     ]
    }
   ],
   "source": [
    "pip install --upgrade google-api-python-client"
   ]
  },
  {
   "cell_type": "code",
   "execution_count": 18,
   "metadata": {},
   "outputs": [
    {
     "name": "stdout",
     "output_type": "stream",
     "text": [
      "Collecting wordcloud\n",
      "  Using cached wordcloud-1.8.2.2.tar.gz (220 kB)\n",
      "  Preparing metadata (setup.py): started\n",
      "  Preparing metadata (setup.py): finished with status 'done'\n",
      "Requirement already satisfied: numpy>=1.6.1 in c:\\users\\dayan\\appdata\\local\\programs\\python\\python311\\lib\\site-packages (from wordcloud) (1.24.2)\n",
      "Requirement already satisfied: pillow in c:\\users\\dayan\\appdata\\local\\programs\\python\\python311\\lib\\site-packages (from wordcloud) (9.4.0)\n",
      "Requirement already satisfied: matplotlib in c:\\users\\dayan\\appdata\\local\\programs\\python\\python311\\lib\\site-packages (from wordcloud) (3.7.0)\n",
      "Requirement already satisfied: contourpy>=1.0.1 in c:\\users\\dayan\\appdata\\local\\programs\\python\\python311\\lib\\site-packages (from matplotlib->wordcloud) (1.0.7)\n",
      "Requirement already satisfied: cycler>=0.10 in c:\\users\\dayan\\appdata\\local\\programs\\python\\python311\\lib\\site-packages (from matplotlib->wordcloud) (0.11.0)\n",
      "Requirement already satisfied: fonttools>=4.22.0 in c:\\users\\dayan\\appdata\\local\\programs\\python\\python311\\lib\\site-packages (from matplotlib->wordcloud) (4.38.0)\n",
      "Requirement already satisfied: kiwisolver>=1.0.1 in c:\\users\\dayan\\appdata\\local\\programs\\python\\python311\\lib\\site-packages (from matplotlib->wordcloud) (1.4.4)\n",
      "Requirement already satisfied: packaging>=20.0 in c:\\users\\dayan\\appdata\\roaming\\python\\python311\\site-packages (from matplotlib->wordcloud) (23.0)\n",
      "Requirement already satisfied: pyparsing>=2.3.1 in c:\\users\\dayan\\appdata\\local\\programs\\python\\python311\\lib\\site-packages (from matplotlib->wordcloud) (3.0.9)\n",
      "Requirement already satisfied: python-dateutil>=2.7 in c:\\users\\dayan\\appdata\\roaming\\python\\python311\\site-packages (from matplotlib->wordcloud) (2.8.2)\n",
      "Requirement already satisfied: six>=1.5 in c:\\users\\dayan\\appdata\\roaming\\python\\python311\\site-packages (from python-dateutil>=2.7->matplotlib->wordcloud) (1.16.0)\n",
      "Installing collected packages: wordcloud\n",
      "  Running setup.py install for wordcloud: started\n",
      "  Running setup.py install for wordcloud: finished with status 'error'\n",
      "Note: you may need to restart the kernel to use updated packages.\n"
     ]
    },
    {
     "name": "stderr",
     "output_type": "stream",
     "text": [
      "  DEPRECATION: wordcloud is being installed using the legacy 'setup.py install' method, because it does not have a 'pyproject.toml' and the 'wheel' package is not installed. pip 23.1 will enforce this behaviour change. A possible replacement is to enable the '--use-pep517' option. Discussion can be found at https://github.com/pypa/pip/issues/8559\n",
      "  error: subprocess-exited-with-error\n",
      "  \n",
      "  × Running setup.py install for wordcloud did not run successfully.\n",
      "  │ exit code: 1\n",
      "  ╰─> [22 lines of output]\n",
      "      running install\n",
      "      c:\\Users\\dayan\\AppData\\Local\\Programs\\Python\\Python311\\Lib\\site-packages\\setuptools\\command\\install.py:34: SetuptoolsDeprecationWarning: setup.py install is deprecated. Use build and pip and other standards-based tools.\n",
      "        warnings.warn(\n",
      "      running build\n",
      "      running build_py\n",
      "      creating build\n",
      "      creating build\\lib.win-amd64-cpython-311\n",
      "      creating build\\lib.win-amd64-cpython-311\\wordcloud\n",
      "      copying wordcloud\\color_from_image.py -> build\\lib.win-amd64-cpython-311\\wordcloud\n",
      "      copying wordcloud\\tokenization.py -> build\\lib.win-amd64-cpython-311\\wordcloud\n",
      "      copying wordcloud\\wordcloud.py -> build\\lib.win-amd64-cpython-311\\wordcloud\n",
      "      copying wordcloud\\wordcloud_cli.py -> build\\lib.win-amd64-cpython-311\\wordcloud\n",
      "      copying wordcloud\\_version.py -> build\\lib.win-amd64-cpython-311\\wordcloud\n",
      "      copying wordcloud\\__init__.py -> build\\lib.win-amd64-cpython-311\\wordcloud\n",
      "      copying wordcloud\\__main__.py -> build\\lib.win-amd64-cpython-311\\wordcloud\n",
      "      copying wordcloud\\stopwords -> build\\lib.win-amd64-cpython-311\\wordcloud\n",
      "      copying wordcloud\\DroidSansMono.ttf -> build\\lib.win-amd64-cpython-311\\wordcloud\n",
      "      UPDATING build\\lib.win-amd64-cpython-311\\wordcloud/_version.py\n",
      "      set build\\lib.win-amd64-cpython-311\\wordcloud/_version.py to '1.8.2.2'\n",
      "      running build_ext\n",
      "      building 'wordcloud.query_integral_image' extension\n",
      "      error: Microsoft Visual C++ 14.0 or greater is required. Get it with \"Microsoft C++ Build Tools\": https://visualstudio.microsoft.com/visual-cpp-build-tools/\n",
      "      [end of output]\n",
      "  \n",
      "  note: This error originates from a subprocess, and is likely not a problem with pip.\n",
      "error: legacy-install-failure\n",
      "\n",
      "× Encountered error while trying to install package.\n",
      "╰─> wordcloud\n",
      "\n",
      "note: This is an issue with the package mentioned above, not pip.\n",
      "hint: See above for output from the failure.\n"
     ]
    }
   ],
   "source": [
    "pip install --upgrade wordcloud "
   ]
  },
  {
   "cell_type": "code",
   "execution_count": 19,
   "metadata": {},
   "outputs": [
    {
     "name": "stdout",
     "output_type": "stream",
     "text": [
      "Requirement already satisfied: seaborn in c:\\users\\dayan\\appdata\\local\\programs\\python\\python311\\lib\\site-packages (0.12.2)\n",
      "Requirement already satisfied: numpy!=1.24.0,>=1.17 in c:\\users\\dayan\\appdata\\local\\programs\\python\\python311\\lib\\site-packages (from seaborn) (1.24.2)\n",
      "Requirement already satisfied: pandas>=0.25 in c:\\users\\dayan\\appdata\\local\\programs\\python\\python311\\lib\\site-packages (from seaborn) (1.5.3)\n",
      "Requirement already satisfied: matplotlib!=3.6.1,>=3.1 in c:\\users\\dayan\\appdata\\local\\programs\\python\\python311\\lib\\site-packages (from seaborn) (3.7.0)\n",
      "Requirement already satisfied: contourpy>=1.0.1 in c:\\users\\dayan\\appdata\\local\\programs\\python\\python311\\lib\\site-packages (from matplotlib!=3.6.1,>=3.1->seaborn) (1.0.7)\n",
      "Requirement already satisfied: cycler>=0.10 in c:\\users\\dayan\\appdata\\local\\programs\\python\\python311\\lib\\site-packages (from matplotlib!=3.6.1,>=3.1->seaborn) (0.11.0)\n",
      "Requirement already satisfied: fonttools>=4.22.0 in c:\\users\\dayan\\appdata\\local\\programs\\python\\python311\\lib\\site-packages (from matplotlib!=3.6.1,>=3.1->seaborn) (4.38.0)\n",
      "Requirement already satisfied: kiwisolver>=1.0.1 in c:\\users\\dayan\\appdata\\local\\programs\\python\\python311\\lib\\site-packages (from matplotlib!=3.6.1,>=3.1->seaborn) (1.4.4)\n",
      "Requirement already satisfied: packaging>=20.0 in c:\\users\\dayan\\appdata\\roaming\\python\\python311\\site-packages (from matplotlib!=3.6.1,>=3.1->seaborn) (23.0)\n",
      "Requirement already satisfied: pillow>=6.2.0 in c:\\users\\dayan\\appdata\\local\\programs\\python\\python311\\lib\\site-packages (from matplotlib!=3.6.1,>=3.1->seaborn) (9.4.0)\n",
      "Requirement already satisfied: pyparsing>=2.3.1 in c:\\users\\dayan\\appdata\\local\\programs\\python\\python311\\lib\\site-packages (from matplotlib!=3.6.1,>=3.1->seaborn) (3.0.9)\n",
      "Requirement already satisfied: python-dateutil>=2.7 in c:\\users\\dayan\\appdata\\roaming\\python\\python311\\site-packages (from matplotlib!=3.6.1,>=3.1->seaborn) (2.8.2)\n",
      "Requirement already satisfied: pytz>=2020.1 in c:\\users\\dayan\\appdata\\local\\programs\\python\\python311\\lib\\site-packages (from pandas>=0.25->seaborn) (2022.7.1)\n",
      "Requirement already satisfied: six>=1.5 in c:\\users\\dayan\\appdata\\roaming\\python\\python311\\site-packages (from python-dateutil>=2.7->matplotlib!=3.6.1,>=3.1->seaborn) (1.16.0)\n",
      "Note: you may need to restart the kernel to use updated packages.\n"
     ]
    }
   ],
   "source": [
    "pip install seaborn"
   ]
  },
  {
   "cell_type": "code",
   "execution_count": 20,
   "metadata": {},
   "outputs": [
    {
     "name": "stdout",
     "output_type": "stream",
     "text": [
      "Requirement already satisfied: isodate in c:\\users\\dayan\\appdata\\local\\programs\\python\\python311\\lib\\site-packages (0.6.1)\n",
      "Requirement already satisfied: six in c:\\users\\dayan\\appdata\\roaming\\python\\python311\\site-packages (from isodate) (1.16.0)\n",
      "Note: you may need to restart the kernel to use updated packages.\n"
     ]
    }
   ],
   "source": [
    "pip install isodate"
   ]
  },
  {
   "cell_type": "code",
   "execution_count": 21,
   "metadata": {},
   "outputs": [
    {
     "name": "stdout",
     "output_type": "stream",
     "text": [
      "Requirement already satisfied: pandas in c:\\users\\dayan\\appdata\\local\\programs\\python\\python311\\lib\\site-packages (1.5.3)\n",
      "Requirement already satisfied: python-dateutil>=2.8.1 in c:\\users\\dayan\\appdata\\roaming\\python\\python311\\site-packages (from pandas) (2.8.2)\n",
      "Requirement already satisfied: pytz>=2020.1 in c:\\users\\dayan\\appdata\\local\\programs\\python\\python311\\lib\\site-packages (from pandas) (2022.7.1)\n",
      "Requirement already satisfied: numpy>=1.21.0 in c:\\users\\dayan\\appdata\\local\\programs\\python\\python311\\lib\\site-packages (from pandas) (1.24.2)\n",
      "Requirement already satisfied: six>=1.5 in c:\\users\\dayan\\appdata\\roaming\\python\\python311\\site-packages (from python-dateutil>=2.8.1->pandas) (1.16.0)\n",
      "Note: you may need to restart the kernel to use updated packages.\n"
     ]
    }
   ],
   "source": [
    "pip install pandas"
   ]
  },
  {
   "cell_type": "code",
   "execution_count": 22,
   "metadata": {},
   "outputs": [
    {
     "name": "stdout",
     "output_type": "stream",
     "text": [
      "Requirement already satisfied: IPython in c:\\users\\dayan\\appdata\\roaming\\python\\python311\\site-packages (8.10.0)\n",
      "Requirement already satisfied: backcall in c:\\users\\dayan\\appdata\\roaming\\python\\python311\\site-packages (from IPython) (0.2.0)\n",
      "Requirement already satisfied: decorator in c:\\users\\dayan\\appdata\\roaming\\python\\python311\\site-packages (from IPython) (5.1.1)\n",
      "Requirement already satisfied: jedi>=0.16 in c:\\users\\dayan\\appdata\\roaming\\python\\python311\\site-packages (from IPython) (0.18.2)\n",
      "Requirement already satisfied: matplotlib-inline in c:\\users\\dayan\\appdata\\roaming\\python\\python311\\site-packages (from IPython) (0.1.6)\n",
      "Requirement already satisfied: pickleshare in c:\\users\\dayan\\appdata\\roaming\\python\\python311\\site-packages (from IPython) (0.7.5)\n",
      "Requirement already satisfied: prompt-toolkit<3.1.0,>=3.0.30 in c:\\users\\dayan\\appdata\\roaming\\python\\python311\\site-packages (from IPython) (3.0.36)\n",
      "Requirement already satisfied: pygments>=2.4.0 in c:\\users\\dayan\\appdata\\roaming\\python\\python311\\site-packages (from IPython) (2.14.0)\n",
      "Requirement already satisfied: stack-data in c:\\users\\dayan\\appdata\\roaming\\python\\python311\\site-packages (from IPython) (0.6.2)\n",
      "Requirement already satisfied: traitlets>=5 in c:\\users\\dayan\\appdata\\roaming\\python\\python311\\site-packages (from IPython) (5.9.0)\n",
      "Requirement already satisfied: colorama in c:\\users\\dayan\\appdata\\roaming\\python\\python311\\site-packages (from IPython) (0.4.6)\n",
      "Requirement already satisfied: parso<0.9.0,>=0.8.0 in c:\\users\\dayan\\appdata\\roaming\\python\\python311\\site-packages (from jedi>=0.16->IPython) (0.8.3)\n",
      "Requirement already satisfied: wcwidth in c:\\users\\dayan\\appdata\\roaming\\python\\python311\\site-packages (from prompt-toolkit<3.1.0,>=3.0.30->IPython) (0.2.6)\n",
      "Requirement already satisfied: executing>=1.2.0 in c:\\users\\dayan\\appdata\\roaming\\python\\python311\\site-packages (from stack-data->IPython) (1.2.0)\n",
      "Requirement already satisfied: asttokens>=2.1.0 in c:\\users\\dayan\\appdata\\roaming\\python\\python311\\site-packages (from stack-data->IPython) (2.2.1)\n",
      "Requirement already satisfied: pure-eval in c:\\users\\dayan\\appdata\\roaming\\python\\python311\\site-packages (from stack-data->IPython) (0.2.2)\n",
      "Requirement already satisfied: six in c:\\users\\dayan\\appdata\\roaming\\python\\python311\\site-packages (from asttokens>=2.1.0->stack-data->IPython) (1.16.0)\n",
      "Note: you may need to restart the kernel to use updated packages.\n"
     ]
    }
   ],
   "source": [
    "pip install IPython"
   ]
  },
  {
   "cell_type": "code",
   "execution_count": 23,
   "metadata": {},
   "outputs": [
    {
     "name": "stdout",
     "output_type": "stream",
     "text": [
      "Requirement already satisfied: nltk in c:\\users\\dayan\\appdata\\local\\programs\\python\\python311\\lib\\site-packages (3.8.1)\n",
      "Requirement already satisfied: click in c:\\users\\dayan\\appdata\\local\\programs\\python\\python311\\lib\\site-packages (from nltk) (8.1.3)\n",
      "Requirement already satisfied: joblib in c:\\users\\dayan\\appdata\\local\\programs\\python\\python311\\lib\\site-packages (from nltk) (1.2.0)\n",
      "Requirement already satisfied: regex>=2021.8.3 in c:\\users\\dayan\\appdata\\local\\programs\\python\\python311\\lib\\site-packages (from nltk) (2022.10.31)\n",
      "Requirement already satisfied: tqdm in c:\\users\\dayan\\appdata\\local\\programs\\python\\python311\\lib\\site-packages (from nltk) (4.64.1)\n",
      "Requirement already satisfied: colorama in c:\\users\\dayan\\appdata\\roaming\\python\\python311\\site-packages (from click->nltk) (0.4.6)\n",
      "Note: you may need to restart the kernel to use updated packages.\n"
     ]
    }
   ],
   "source": [
    "pip install nltk"
   ]
  },
  {
   "cell_type": "code",
   "execution_count": 24,
   "metadata": {},
   "outputs": [
    {
     "name": "stdout",
     "output_type": "stream",
     "text": [
      "Requirement already satisfied: pillow in c:\\users\\dayan\\appdata\\local\\programs\\python\\python311\\lib\\site-packages (9.4.0)\n",
      "Note: you may need to restart the kernel to use updated packages.\n"
     ]
    }
   ],
   "source": [
    "pip install pillow"
   ]
  },
  {
   "cell_type": "code",
   "execution_count": 25,
   "metadata": {},
   "outputs": [
    {
     "name": "stdout",
     "output_type": "stream",
     "text": [
      "Note: you may need to restart the kernel to use updated packages.\n"
     ]
    },
    {
     "name": "stderr",
     "output_type": "stream",
     "text": [
      "ERROR: Could not find a version that satisfies the requirement os (from versions: none)\n",
      "ERROR: No matching distribution found for os\n"
     ]
    }
   ],
   "source": [
    "pip install os"
   ]
  },
  {
   "cell_type": "code",
   "execution_count": 26,
   "metadata": {},
   "outputs": [
    {
     "name": "stdout",
     "output_type": "stream",
     "text": [
      "Requirement already satisfied: matplotlib in c:\\users\\dayan\\appdata\\local\\programs\\python\\python311\\lib\\site-packages (3.7.0)Note: you may need to restart the kernel to use updated packages.\n",
      "\n",
      "Requirement already satisfied: contourpy>=1.0.1 in c:\\users\\dayan\\appdata\\local\\programs\\python\\python311\\lib\\site-packages (from matplotlib) (1.0.7)\n",
      "Requirement already satisfied: cycler>=0.10 in c:\\users\\dayan\\appdata\\local\\programs\\python\\python311\\lib\\site-packages (from matplotlib) (0.11.0)\n",
      "Requirement already satisfied: fonttools>=4.22.0 in c:\\users\\dayan\\appdata\\local\\programs\\python\\python311\\lib\\site-packages (from matplotlib) (4.38.0)\n",
      "Requirement already satisfied: kiwisolver>=1.0.1 in c:\\users\\dayan\\appdata\\local\\programs\\python\\python311\\lib\\site-packages (from matplotlib) (1.4.4)\n",
      "Requirement already satisfied: numpy>=1.20 in c:\\users\\dayan\\appdata\\local\\programs\\python\\python311\\lib\\site-packages (from matplotlib) (1.24.2)\n",
      "Requirement already satisfied: packaging>=20.0 in c:\\users\\dayan\\appdata\\roaming\\python\\python311\\site-packages (from matplotlib) (23.0)\n",
      "Requirement already satisfied: pillow>=6.2.0 in c:\\users\\dayan\\appdata\\local\\programs\\python\\python311\\lib\\site-packages (from matplotlib) (9.4.0)\n",
      "Requirement already satisfied: pyparsing>=2.3.1 in c:\\users\\dayan\\appdata\\local\\programs\\python\\python311\\lib\\site-packages (from matplotlib) (3.0.9)\n",
      "Requirement already satisfied: python-dateutil>=2.7 in c:\\users\\dayan\\appdata\\roaming\\python\\python311\\site-packages (from matplotlib) (2.8.2)\n",
      "Requirement already satisfied: six>=1.5 in c:\\users\\dayan\\appdata\\roaming\\python\\python311\\site-packages (from python-dateutil>=2.7->matplotlib) (1.16.0)\n"
     ]
    }
   ],
   "source": [
    "pip install matplotlib"
   ]
  },
  {
   "cell_type": "code",
   "execution_count": 27,
   "metadata": {},
   "outputs": [
    {
     "name": "stderr",
     "output_type": "stream",
     "text": [
      "[nltk_data] Downloading package stopwords to\n",
      "[nltk_data]     C:\\Users\\dayan\\AppData\\Roaming\\nltk_data...\n",
      "[nltk_data]   Package stopwords is already up-to-date!\n",
      "[nltk_data] Downloading package punkt to\n",
      "[nltk_data]     C:\\Users\\dayan\\AppData\\Roaming\\nltk_data...\n",
      "[nltk_data]   Package punkt is already up-to-date!\n"
     ]
    }
   ],
   "source": [
    "import os\n",
    "\n",
    "from os import path\n",
    "#from wordcloud import WordCloud\n",
    "from googleapiclient.discovery import build\n",
    "from dateutil import parser\n",
    "import pandas as pd\n",
    "from IPython.display import JSON\n",
    "\n",
    "# Data viz packages\n",
    "import seaborn as sns\n",
    "import matplotlib.pyplot as plt\n",
    "import matplotlib.ticker as ticker\n",
    "\n",
    "# NLP\n",
    "import nltk\n",
    "from nltk.corpus import stopwords\n",
    "from nltk.tokenize import word_tokenize\n",
    "nltk.download('stopwords')\n",
    "nltk.download('punkt')\n",
    "api_key = 'coloque_sua_chave'"
   ]
  },
  {
   "cell_type": "code",
   "execution_count": 28,
   "metadata": {},
   "outputs": [],
   "source": [
    "channel_ids = ['UCUFFHXvzAMRSD8Bq4bJppxQ', \n",
    "                'UCoOae5nYA7VqaXzerajD0lg']"
   ]
  },
  {
   "cell_type": "code",
   "execution_count": 29,
   "metadata": {},
   "outputs": [],
   "source": [
    "    api_service_name = \"youtube\"\n",
    "    api_version = \"v3\"\n",
    "\n",
    "    # Get credentials and create an API client\n",
    "\n",
    "    youtube = build(\n",
    "        api_service_name, api_version, developerKey=api_key)"
   ]
  },
  {
   "cell_type": "code",
   "execution_count": 30,
   "metadata": {},
   "outputs": [],
   "source": [
    "def get_channel_stats(self, channel_ids):\n",
    "    \"\"\"\n",
    "     Obter estatísticas do canal\n",
    "    \n",
    "     Parâmetros:\n",
    "     ------\n",
    "     youtube: objeto de construção da API do Youtube\n",
    "     channel_ids: lista de IDs de canais\n",
    "    \n",
    "     Retorna:\n",
    "     ------\n",
    "     dataframe com todas as estatísticas de canal para cada ID de canal\n",
    "    \n",
    "     \"\"\"\n",
    "    all_data = []\n",
    "    \n",
    "    request = youtube.channels().list(\n",
    "        part=\"snippet,contentDetails,statistics\",\n",
    "        id=\",\".join(channel_ids)\n",
    "        \n",
    "    )\n",
    "    response = request.execute()\n",
    "    \n",
    "    #loop through items\n",
    "    for item in response['items']:\n",
    "        data = {'channelName': item['snippet']['title'],\n",
    "              'subscribers': item['statistics']['subscriberCount'],\n",
    "              'views': item['statistics']['viewCount'],\n",
    "              'totalviews': item['statistics']['videoCount'],\n",
    "              'playlistId':item['contentDetails']['relatedPlaylists']['uploads']\n",
    "            \n",
    "        }\n",
    "        all_data.append(data)\n",
    "    return (pd.DataFrame(all_data))\n",
    "    "
   ]
  },
  {
   "cell_type": "code",
   "execution_count": 31,
   "metadata": {},
   "outputs": [],
   "source": [
    "channel_stats = get_channel_stats(youtube, channel_ids)"
   ]
  },
  {
   "cell_type": "code",
   "execution_count": 32,
   "metadata": {},
   "outputs": [
    {
     "data": {
      "text/html": [
       "<div>\n",
       "<style scoped>\n",
       "    .dataframe tbody tr th:only-of-type {\n",
       "        vertical-align: middle;\n",
       "    }\n",
       "\n",
       "    .dataframe tbody tr th {\n",
       "        vertical-align: top;\n",
       "    }\n",
       "\n",
       "    .dataframe thead th {\n",
       "        text-align: right;\n",
       "    }\n",
       "</style>\n",
       "<table border=\"1\" class=\"dataframe\">\n",
       "  <thead>\n",
       "    <tr style=\"text-align: right;\">\n",
       "      <th></th>\n",
       "      <th>channelName</th>\n",
       "      <th>subscribers</th>\n",
       "      <th>views</th>\n",
       "      <th>totalviews</th>\n",
       "      <th>playlistId</th>\n",
       "    </tr>\n",
       "  </thead>\n",
       "  <tbody>\n",
       "    <tr>\n",
       "      <th>0</th>\n",
       "      <td>Ali Abdaal</td>\n",
       "      <td>3840000</td>\n",
       "      <td>274636804</td>\n",
       "      <td>570</td>\n",
       "      <td>UUoOae5nYA7VqaXzerajD0lg</td>\n",
       "    </tr>\n",
       "    <tr>\n",
       "      <th>1</th>\n",
       "      <td>Elizabeth Filips</td>\n",
       "      <td>654000</td>\n",
       "      <td>28440036</td>\n",
       "      <td>119</td>\n",
       "      <td>UUUFFHXvzAMRSD8Bq4bJppxQ</td>\n",
       "    </tr>\n",
       "  </tbody>\n",
       "</table>\n",
       "</div>"
      ],
      "text/plain": [
       "        channelName subscribers      views totalviews  \\\n",
       "0        Ali Abdaal     3840000  274636804        570   \n",
       "1  Elizabeth Filips      654000   28440036        119   \n",
       "\n",
       "                 playlistId  \n",
       "0  UUoOae5nYA7VqaXzerajD0lg  \n",
       "1  UUUFFHXvzAMRSD8Bq4bJppxQ  "
      ]
     },
     "execution_count": 32,
     "metadata": {},
     "output_type": "execute_result"
    }
   ],
   "source": [
    "channel_stats"
   ]
  },
  {
   "cell_type": "code",
   "execution_count": 33,
   "metadata": {},
   "outputs": [],
   "source": [
    "   playlist_id = 'UUUFFHXvzAMRSD8Bq4bJppxQ'\n",
    "   \n",
    "   def get_video_ids(youtube, playlist_id):\n",
    "   \n",
    "    video_ids = []\n",
    "    \n",
    "    request = youtube.playlistItems().list(\n",
    "        part=\"snippet,contentDetails\",\n",
    "        playlistId=playlist_id,\n",
    "        maxResults = 50\n",
    "    )\n",
    "    response = request.execute()\n",
    "    \n",
    "    for item in response['items']:\n",
    "        video_ids.append(item['contentDetails']['videoId'])\n",
    "        \n",
    "    next_page_toke = response.get('nextPageToken')\n",
    "    while next_page_toke is not None:\n",
    "        request = youtube.playlistItems().list(\n",
    "            part=\"snippet,contentDetails\",\n",
    "            playlistId=playlist_id,\n",
    "            maxResults = 50,\n",
    "            pageToken = next_page_toke\n",
    "    )\n",
    "        response = request.execute()\n",
    "    \n",
    "        for item in response['items']:\n",
    "            video_ids.append(item['contentDetails']['videoId'])\n",
    "        \n",
    "        next_page_toke = response.get('nextPageToken')\n",
    "    return video_ids"
   ]
  },
  {
   "cell_type": "code",
   "execution_count": 34,
   "metadata": {},
   "outputs": [],
   "source": [
    "video_ids = get_video_ids(youtube, playlist_id)"
   ]
  },
  {
   "cell_type": "code",
   "execution_count": 35,
   "metadata": {},
   "outputs": [
    {
     "data": {
      "text/plain": [
       "119"
      ]
     },
     "execution_count": 35,
     "metadata": {},
     "output_type": "execute_result"
    }
   ],
   "source": [
    "len(video_ids)"
   ]
  },
  {
   "cell_type": "code",
   "execution_count": 36,
   "metadata": {},
   "outputs": [],
   "source": [
    "def get_video_details(youtube, video_ids):\n",
    "\n",
    "    all_video_info = []\n",
    "    \n",
    "    for i in range(0, len(video_ids), 50):\n",
    "        request = youtube.videos().list(\n",
    "            part=\"snippet,contentDetails,statistics\",\n",
    "            id=','.join(video_ids[i:i+50])\n",
    "        )\n",
    "        response = request.execute() \n",
    "\n",
    "        for video in response['items']:\n",
    "            stats_to_keep = {'snippet': ['channelTitle', 'title', 'description', 'tags', 'publishedAt'],\n",
    "                             'statistics': ['viewCount', 'likeCount', 'favouriteCount', 'commentCount'],\n",
    "                             'contentDetails': ['duration', 'definition', 'caption']\n",
    "                            }\n",
    "            video_info = {}\n",
    "            video_info['video_id'] = video['id']\n",
    "\n",
    "            for k in stats_to_keep.keys():\n",
    "                for v in stats_to_keep[k]:\n",
    "                    try:\n",
    "                        video_info[v] = video[k][v]\n",
    "                    except:\n",
    "                        video_info[v] = None\n",
    "\n",
    "            all_video_info.append(video_info)\n",
    "    \n",
    "    return pd.DataFrame(all_video_info)"
   ]
  },
  {
   "cell_type": "code",
   "execution_count": 37,
   "metadata": {},
   "outputs": [
    {
     "data": {
      "text/html": [
       "<div>\n",
       "<style scoped>\n",
       "    .dataframe tbody tr th:only-of-type {\n",
       "        vertical-align: middle;\n",
       "    }\n",
       "\n",
       "    .dataframe tbody tr th {\n",
       "        vertical-align: top;\n",
       "    }\n",
       "\n",
       "    .dataframe thead th {\n",
       "        text-align: right;\n",
       "    }\n",
       "</style>\n",
       "<table border=\"1\" class=\"dataframe\">\n",
       "  <thead>\n",
       "    <tr style=\"text-align: right;\">\n",
       "      <th></th>\n",
       "      <th>video_id</th>\n",
       "      <th>channelTitle</th>\n",
       "      <th>title</th>\n",
       "      <th>description</th>\n",
       "      <th>tags</th>\n",
       "      <th>publishedAt</th>\n",
       "      <th>viewCount</th>\n",
       "      <th>likeCount</th>\n",
       "      <th>favouriteCount</th>\n",
       "      <th>commentCount</th>\n",
       "      <th>duration</th>\n",
       "      <th>definition</th>\n",
       "      <th>caption</th>\n",
       "    </tr>\n",
       "  </thead>\n",
       "  <tbody>\n",
       "    <tr>\n",
       "      <th>0</th>\n",
       "      <td>DXveBVRbP0Y</td>\n",
       "      <td>Elizabeth Filips</td>\n",
       "      <td>A Day in the Life of a Medical Student in Lond...</td>\n",
       "      <td>First day in the life in a LONG time 🫀\\n\\nWHO ...</td>\n",
       "      <td>None</td>\n",
       "      <td>2023-02-12T15:21:19Z</td>\n",
       "      <td>16165</td>\n",
       "      <td>1209</td>\n",
       "      <td>None</td>\n",
       "      <td>40</td>\n",
       "      <td>PT17S</td>\n",
       "      <td>hd</td>\n",
       "      <td>false</td>\n",
       "    </tr>\n",
       "    <tr>\n",
       "      <th>1</th>\n",
       "      <td>1tOcYYGHCO0</td>\n",
       "      <td>Elizabeth Filips</td>\n",
       "      <td>You Don't Hate Books: The Reading Habit Gettin...</td>\n",
       "      <td>Join my book club and ad-free educational YouT...</td>\n",
       "      <td>[reading, books, how to read, how to read fast...</td>\n",
       "      <td>2023-02-07T11:30:02Z</td>\n",
       "      <td>50177</td>\n",
       "      <td>3108</td>\n",
       "      <td>None</td>\n",
       "      <td>190</td>\n",
       "      <td>PT14M41S</td>\n",
       "      <td>hd</td>\n",
       "      <td>false</td>\n",
       "    </tr>\n",
       "    <tr>\n",
       "      <th>2</th>\n",
       "      <td>FzONG60QwzE</td>\n",
       "      <td>Elizabeth Filips</td>\n",
       "      <td>Become a Better Student: The Simple But Clever...</td>\n",
       "      <td>I’m not saying we’re better as medical student...</td>\n",
       "      <td>None</td>\n",
       "      <td>2023-01-23T10:39:42Z</td>\n",
       "      <td>128662</td>\n",
       "      <td>7593</td>\n",
       "      <td>None</td>\n",
       "      <td>166</td>\n",
       "      <td>PT14M33S</td>\n",
       "      <td>hd</td>\n",
       "      <td>false</td>\n",
       "    </tr>\n",
       "    <tr>\n",
       "      <th>3</th>\n",
       "      <td>HPYIg4fJgwo</td>\n",
       "      <td>Elizabeth Filips</td>\n",
       "      <td>Multipliers: 5 Easy, High-Leverage Changes I'm...</td>\n",
       "      <td>🧠 To get 20% off the Annual Membership for Bri...</td>\n",
       "      <td>None</td>\n",
       "      <td>2023-01-03T13:27:17Z</td>\n",
       "      <td>132437</td>\n",
       "      <td>6732</td>\n",
       "      <td>None</td>\n",
       "      <td>405</td>\n",
       "      <td>PT14M9S</td>\n",
       "      <td>hd</td>\n",
       "      <td>false</td>\n",
       "    </tr>\n",
       "    <tr>\n",
       "      <th>4</th>\n",
       "      <td>fi5Dbzxfjvc</td>\n",
       "      <td>Elizabeth Filips</td>\n",
       "      <td>Heal Yourself: 1 Life Formula from 620 Hours o...</td>\n",
       "      <td>Main Relevant links:\\n📚 My Book Club through C...</td>\n",
       "      <td>None</td>\n",
       "      <td>2022-12-13T11:20:55Z</td>\n",
       "      <td>409865</td>\n",
       "      <td>21991</td>\n",
       "      <td>None</td>\n",
       "      <td>988</td>\n",
       "      <td>PT38M31S</td>\n",
       "      <td>hd</td>\n",
       "      <td>false</td>\n",
       "    </tr>\n",
       "    <tr>\n",
       "      <th>...</th>\n",
       "      <td>...</td>\n",
       "      <td>...</td>\n",
       "      <td>...</td>\n",
       "      <td>...</td>\n",
       "      <td>...</td>\n",
       "      <td>...</td>\n",
       "      <td>...</td>\n",
       "      <td>...</td>\n",
       "      <td>...</td>\n",
       "      <td>...</td>\n",
       "      <td>...</td>\n",
       "      <td>...</td>\n",
       "      <td>...</td>\n",
       "    </tr>\n",
       "    <tr>\n",
       "      <th>114</th>\n",
       "      <td>vTrq1akLC9A</td>\n",
       "      <td>Elizabeth Filips</td>\n",
       "      <td>STUDY WITH ME: 1h Get Something Done Today</td>\n",
       "      <td>Just going to leave this here for anyone who f...</td>\n",
       "      <td>[Study with me, Work with me, Study with me wi...</td>\n",
       "      <td>2020-11-29T08:54:09Z</td>\n",
       "      <td>34978</td>\n",
       "      <td>807</td>\n",
       "      <td>None</td>\n",
       "      <td>81</td>\n",
       "      <td>PT1H1M9S</td>\n",
       "      <td>hd</td>\n",
       "      <td>false</td>\n",
       "    </tr>\n",
       "    <tr>\n",
       "      <th>115</th>\n",
       "      <td>42rUMksq4D4</td>\n",
       "      <td>Elizabeth Filips</td>\n",
       "      <td>How I Use Anki Flashcards in Medical School</td>\n",
       "      <td>To Save You Some Time:\\n0:00 - 1- 🌝Intro\\n0:12...</td>\n",
       "      <td>[anki, flashcards, anki flashcards, anki medic...</td>\n",
       "      <td>2020-11-27T13:13:10Z</td>\n",
       "      <td>42175</td>\n",
       "      <td>1678</td>\n",
       "      <td>None</td>\n",
       "      <td>95</td>\n",
       "      <td>PT3M56S</td>\n",
       "      <td>hd</td>\n",
       "      <td>false</td>\n",
       "    </tr>\n",
       "    <tr>\n",
       "      <th>116</th>\n",
       "      <td>pakxdMxFEoc</td>\n",
       "      <td>Elizabeth Filips</td>\n",
       "      <td>Medical School Interview Tips</td>\n",
       "      <td>To save you some time:\\n0:00 - Intro - 💁‍♀️ Wh...</td>\n",
       "      <td>[medicine, medical interviews, medicine uk, me...</td>\n",
       "      <td>2020-11-24T12:19:25Z</td>\n",
       "      <td>7977</td>\n",
       "      <td>305</td>\n",
       "      <td>None</td>\n",
       "      <td>21</td>\n",
       "      <td>PT6M54S</td>\n",
       "      <td>hd</td>\n",
       "      <td>false</td>\n",
       "    </tr>\n",
       "    <tr>\n",
       "      <th>117</th>\n",
       "      <td>HH6as4fXQmg</td>\n",
       "      <td>Elizabeth Filips</td>\n",
       "      <td>How to Take Notes at University with Active Re...</td>\n",
       "      <td>Heya! This is a summary of the methods I've be...</td>\n",
       "      <td>[anki, notion, medical students, medicine, stu...</td>\n",
       "      <td>2020-11-19T10:06:46Z</td>\n",
       "      <td>77436</td>\n",
       "      <td>3974</td>\n",
       "      <td>None</td>\n",
       "      <td>145</td>\n",
       "      <td>PT5M48S</td>\n",
       "      <td>hd</td>\n",
       "      <td>false</td>\n",
       "    </tr>\n",
       "    <tr>\n",
       "      <th>118</th>\n",
       "      <td>T5uLL9Tt8nQ</td>\n",
       "      <td>Elizabeth Filips</td>\n",
       "      <td>Why Students Shouldn't Buy iPads in 2022</td>\n",
       "      <td>Heya, as someone who used the iPad religiously...</td>\n",
       "      <td>[ipad vs laptop, ipad vs macbook, ipad pro vs ...</td>\n",
       "      <td>2020-11-14T11:02:30Z</td>\n",
       "      <td>447606</td>\n",
       "      <td>10270</td>\n",
       "      <td>None</td>\n",
       "      <td>865</td>\n",
       "      <td>PT8M57S</td>\n",
       "      <td>hd</td>\n",
       "      <td>false</td>\n",
       "    </tr>\n",
       "  </tbody>\n",
       "</table>\n",
       "<p>119 rows × 13 columns</p>\n",
       "</div>"
      ],
      "text/plain": [
       "        video_id      channelTitle  \\\n",
       "0    DXveBVRbP0Y  Elizabeth Filips   \n",
       "1    1tOcYYGHCO0  Elizabeth Filips   \n",
       "2    FzONG60QwzE  Elizabeth Filips   \n",
       "3    HPYIg4fJgwo  Elizabeth Filips   \n",
       "4    fi5Dbzxfjvc  Elizabeth Filips   \n",
       "..           ...               ...   \n",
       "114  vTrq1akLC9A  Elizabeth Filips   \n",
       "115  42rUMksq4D4  Elizabeth Filips   \n",
       "116  pakxdMxFEoc  Elizabeth Filips   \n",
       "117  HH6as4fXQmg  Elizabeth Filips   \n",
       "118  T5uLL9Tt8nQ  Elizabeth Filips   \n",
       "\n",
       "                                                 title  \\\n",
       "0    A Day in the Life of a Medical Student in Lond...   \n",
       "1    You Don't Hate Books: The Reading Habit Gettin...   \n",
       "2    Become a Better Student: The Simple But Clever...   \n",
       "3    Multipliers: 5 Easy, High-Leverage Changes I'm...   \n",
       "4    Heal Yourself: 1 Life Formula from 620 Hours o...   \n",
       "..                                                 ...   \n",
       "114         STUDY WITH ME: 1h Get Something Done Today   \n",
       "115        How I Use Anki Flashcards in Medical School   \n",
       "116                      Medical School Interview Tips   \n",
       "117  How to Take Notes at University with Active Re...   \n",
       "118           Why Students Shouldn't Buy iPads in 2022   \n",
       "\n",
       "                                           description  \\\n",
       "0    First day in the life in a LONG time 🫀\\n\\nWHO ...   \n",
       "1    Join my book club and ad-free educational YouT...   \n",
       "2    I’m not saying we’re better as medical student...   \n",
       "3    🧠 To get 20% off the Annual Membership for Bri...   \n",
       "4    Main Relevant links:\\n📚 My Book Club through C...   \n",
       "..                                                 ...   \n",
       "114  Just going to leave this here for anyone who f...   \n",
       "115  To Save You Some Time:\\n0:00 - 1- 🌝Intro\\n0:12...   \n",
       "116  To save you some time:\\n0:00 - Intro - 💁‍♀️ Wh...   \n",
       "117  Heya! This is a summary of the methods I've be...   \n",
       "118  Heya, as someone who used the iPad religiously...   \n",
       "\n",
       "                                                  tags           publishedAt  \\\n",
       "0                                                 None  2023-02-12T15:21:19Z   \n",
       "1    [reading, books, how to read, how to read fast...  2023-02-07T11:30:02Z   \n",
       "2                                                 None  2023-01-23T10:39:42Z   \n",
       "3                                                 None  2023-01-03T13:27:17Z   \n",
       "4                                                 None  2022-12-13T11:20:55Z   \n",
       "..                                                 ...                   ...   \n",
       "114  [Study with me, Work with me, Study with me wi...  2020-11-29T08:54:09Z   \n",
       "115  [anki, flashcards, anki flashcards, anki medic...  2020-11-27T13:13:10Z   \n",
       "116  [medicine, medical interviews, medicine uk, me...  2020-11-24T12:19:25Z   \n",
       "117  [anki, notion, medical students, medicine, stu...  2020-11-19T10:06:46Z   \n",
       "118  [ipad vs laptop, ipad vs macbook, ipad pro vs ...  2020-11-14T11:02:30Z   \n",
       "\n",
       "    viewCount likeCount favouriteCount commentCount  duration definition  \\\n",
       "0       16165      1209           None           40     PT17S         hd   \n",
       "1       50177      3108           None          190  PT14M41S         hd   \n",
       "2      128662      7593           None          166  PT14M33S         hd   \n",
       "3      132437      6732           None          405   PT14M9S         hd   \n",
       "4      409865     21991           None          988  PT38M31S         hd   \n",
       "..        ...       ...            ...          ...       ...        ...   \n",
       "114     34978       807           None           81  PT1H1M9S         hd   \n",
       "115     42175      1678           None           95   PT3M56S         hd   \n",
       "116      7977       305           None           21   PT6M54S         hd   \n",
       "117     77436      3974           None          145   PT5M48S         hd   \n",
       "118    447606     10270           None          865   PT8M57S         hd   \n",
       "\n",
       "    caption  \n",
       "0     false  \n",
       "1     false  \n",
       "2     false  \n",
       "3     false  \n",
       "4     false  \n",
       "..      ...  \n",
       "114   false  \n",
       "115   false  \n",
       "116   false  \n",
       "117   false  \n",
       "118   false  \n",
       "\n",
       "[119 rows x 13 columns]"
      ]
     },
     "execution_count": 37,
     "metadata": {},
     "output_type": "execute_result"
    }
   ],
   "source": [
    "# Get video details\n",
    "video_df = get_video_details(youtube, video_ids)\n",
    "video_df"
   ]
  },
  {
   "cell_type": "code",
   "execution_count": 38,
   "metadata": {},
   "outputs": [],
   "source": [
    "def get_comments_in_videos(youtube, video_ids):\n",
    "    all_comments = []\n",
    "    \n",
    "    for video_id in video_ids:\n",
    "        request = youtube.commentThreads().list(\n",
    "            part=\"snippet,replies\",\n",
    "            videoId=video_id\n",
    "        )\n",
    "        response = request.execute()\n",
    "        \n",
    "        get_comments_in_videos = [comment ['snippet']['topLevelComment']['snippet']['textOriginal']for comment in response]\n",
    "        get_comments_in_videos_info = {'video_id': video_id, 'comment': get_comments_in_videos}\n",
    "        \n",
    "        all_comments.append(get_comments_in_videos_info)\n",
    "        \n",
    "        return pd.DataFrame(all_comments)"
   ]
  },
  {
   "cell_type": "code",
   "execution_count": 39,
   "metadata": {},
   "outputs": [
    {
     "data": {
      "text/plain": [
       "video_id          False\n",
       "channelTitle      False\n",
       "title             False\n",
       "description       False\n",
       "tags               True\n",
       "publishedAt       False\n",
       "viewCount         False\n",
       "likeCount         False\n",
       "favouriteCount     True\n",
       "commentCount      False\n",
       "duration          False\n",
       "definition        False\n",
       "caption           False\n",
       "dtype: bool"
      ]
     },
     "execution_count": 39,
     "metadata": {},
     "output_type": "execute_result"
    }
   ],
   "source": [
    "# Check for NULL values\n",
    "video_df.isnull().any()"
   ]
  },
  {
   "cell_type": "code",
   "execution_count": 40,
   "metadata": {},
   "outputs": [
    {
     "data": {
      "text/plain": [
       "video_id          object\n",
       "channelTitle      object\n",
       "title             object\n",
       "description       object\n",
       "tags              object\n",
       "publishedAt       object\n",
       "viewCount         object\n",
       "likeCount         object\n",
       "favouriteCount    object\n",
       "commentCount      object\n",
       "duration          object\n",
       "definition        object\n",
       "caption           object\n",
       "dtype: object"
      ]
     },
     "execution_count": 40,
     "metadata": {},
     "output_type": "execute_result"
    }
   ],
   "source": [
    "# Check data types\n",
    "video_df.dtypes"
   ]
  },
  {
   "cell_type": "code",
   "execution_count": 41,
   "metadata": {},
   "outputs": [],
   "source": [
    "# Convert count columns to numeric\n",
    "numeric_cols = ['viewCount', 'likeCount', 'favouriteCount', 'commentCount']\n",
    "video_df[numeric_cols] = video_df[numeric_cols].apply(pd.to_numeric, errors = 'coerce', axis = 1)"
   ]
  },
  {
   "cell_type": "code",
   "execution_count": 42,
   "metadata": {},
   "outputs": [],
   "source": [
    "# Publish day in the week\n",
    "video_df['publishedAt'] = video_df['publishedAt'].apply(lambda x: parser.parse(x)) \n",
    "video_df['pushblishDayName'] = video_df['publishedAt'].apply(lambda x: x.strftime(\"%A\"))"
   ]
  },
  {
   "cell_type": "code",
   "execution_count": 43,
   "metadata": {},
   "outputs": [],
   "source": [
    "# convert duration to seconds\n",
    "import isodate\n",
    "video_df['durationSecs'] = video_df['duration'].apply(lambda x: isodate.parse_duration(x))\n",
    "video_df['durationSecs'] = video_df['durationSecs'].astype('timedelta64[s]')"
   ]
  },
  {
   "cell_type": "code",
   "execution_count": 44,
   "metadata": {},
   "outputs": [
    {
     "data": {
      "text/html": [
       "<div>\n",
       "<style scoped>\n",
       "    .dataframe tbody tr th:only-of-type {\n",
       "        vertical-align: middle;\n",
       "    }\n",
       "\n",
       "    .dataframe tbody tr th {\n",
       "        vertical-align: top;\n",
       "    }\n",
       "\n",
       "    .dataframe thead th {\n",
       "        text-align: right;\n",
       "    }\n",
       "</style>\n",
       "<table border=\"1\" class=\"dataframe\">\n",
       "  <thead>\n",
       "    <tr style=\"text-align: right;\">\n",
       "      <th></th>\n",
       "      <th>durationSecs</th>\n",
       "      <th>duration</th>\n",
       "    </tr>\n",
       "  </thead>\n",
       "  <tbody>\n",
       "    <tr>\n",
       "      <th>0</th>\n",
       "      <td>17.0</td>\n",
       "      <td>PT17S</td>\n",
       "    </tr>\n",
       "    <tr>\n",
       "      <th>1</th>\n",
       "      <td>881.0</td>\n",
       "      <td>PT14M41S</td>\n",
       "    </tr>\n",
       "    <tr>\n",
       "      <th>2</th>\n",
       "      <td>873.0</td>\n",
       "      <td>PT14M33S</td>\n",
       "    </tr>\n",
       "    <tr>\n",
       "      <th>3</th>\n",
       "      <td>849.0</td>\n",
       "      <td>PT14M9S</td>\n",
       "    </tr>\n",
       "    <tr>\n",
       "      <th>4</th>\n",
       "      <td>2311.0</td>\n",
       "      <td>PT38M31S</td>\n",
       "    </tr>\n",
       "    <tr>\n",
       "      <th>...</th>\n",
       "      <td>...</td>\n",
       "      <td>...</td>\n",
       "    </tr>\n",
       "    <tr>\n",
       "      <th>114</th>\n",
       "      <td>3669.0</td>\n",
       "      <td>PT1H1M9S</td>\n",
       "    </tr>\n",
       "    <tr>\n",
       "      <th>115</th>\n",
       "      <td>236.0</td>\n",
       "      <td>PT3M56S</td>\n",
       "    </tr>\n",
       "    <tr>\n",
       "      <th>116</th>\n",
       "      <td>414.0</td>\n",
       "      <td>PT6M54S</td>\n",
       "    </tr>\n",
       "    <tr>\n",
       "      <th>117</th>\n",
       "      <td>348.0</td>\n",
       "      <td>PT5M48S</td>\n",
       "    </tr>\n",
       "    <tr>\n",
       "      <th>118</th>\n",
       "      <td>537.0</td>\n",
       "      <td>PT8M57S</td>\n",
       "    </tr>\n",
       "  </tbody>\n",
       "</table>\n",
       "<p>119 rows × 2 columns</p>\n",
       "</div>"
      ],
      "text/plain": [
       "     durationSecs  duration\n",
       "0            17.0     PT17S\n",
       "1           881.0  PT14M41S\n",
       "2           873.0  PT14M33S\n",
       "3           849.0   PT14M9S\n",
       "4          2311.0  PT38M31S\n",
       "..            ...       ...\n",
       "114        3669.0  PT1H1M9S\n",
       "115         236.0   PT3M56S\n",
       "116         414.0   PT6M54S\n",
       "117         348.0   PT5M48S\n",
       "118         537.0   PT8M57S\n",
       "\n",
       "[119 rows x 2 columns]"
      ]
     },
     "execution_count": 44,
     "metadata": {},
     "output_type": "execute_result"
    }
   ],
   "source": [
    "video_df[['durationSecs','duration']]"
   ]
  },
  {
   "cell_type": "code",
   "execution_count": 45,
   "metadata": {},
   "outputs": [],
   "source": [
    "# Add tag count\n",
    "video_df['tagCount'] = video_df['tags'].apply(lambda x: 0 if x is None else len(x))"
   ]
  },
  {
   "cell_type": "code",
   "execution_count": 46,
   "metadata": {},
   "outputs": [
    {
     "data": {
      "text/html": [
       "<div>\n",
       "<style scoped>\n",
       "    .dataframe tbody tr th:only-of-type {\n",
       "        vertical-align: middle;\n",
       "    }\n",
       "\n",
       "    .dataframe tbody tr th {\n",
       "        vertical-align: top;\n",
       "    }\n",
       "\n",
       "    .dataframe thead th {\n",
       "        text-align: right;\n",
       "    }\n",
       "</style>\n",
       "<table border=\"1\" class=\"dataframe\">\n",
       "  <thead>\n",
       "    <tr style=\"text-align: right;\">\n",
       "      <th></th>\n",
       "      <th>video_id</th>\n",
       "      <th>channelTitle</th>\n",
       "      <th>title</th>\n",
       "      <th>description</th>\n",
       "      <th>tags</th>\n",
       "      <th>publishedAt</th>\n",
       "      <th>viewCount</th>\n",
       "      <th>likeCount</th>\n",
       "      <th>favouriteCount</th>\n",
       "      <th>commentCount</th>\n",
       "      <th>duration</th>\n",
       "      <th>definition</th>\n",
       "      <th>caption</th>\n",
       "      <th>pushblishDayName</th>\n",
       "      <th>durationSecs</th>\n",
       "      <th>tagCount</th>\n",
       "    </tr>\n",
       "  </thead>\n",
       "  <tbody>\n",
       "    <tr>\n",
       "      <th>0</th>\n",
       "      <td>DXveBVRbP0Y</td>\n",
       "      <td>Elizabeth Filips</td>\n",
       "      <td>A Day in the Life of a Medical Student in Lond...</td>\n",
       "      <td>First day in the life in a LONG time 🫀\\n\\nWHO ...</td>\n",
       "      <td>None</td>\n",
       "      <td>2023-02-12 15:21:19+00:00</td>\n",
       "      <td>16165.0</td>\n",
       "      <td>1209.0</td>\n",
       "      <td>NaN</td>\n",
       "      <td>40.0</td>\n",
       "      <td>PT17S</td>\n",
       "      <td>hd</td>\n",
       "      <td>false</td>\n",
       "      <td>Sunday</td>\n",
       "      <td>17.0</td>\n",
       "      <td>0</td>\n",
       "    </tr>\n",
       "    <tr>\n",
       "      <th>1</th>\n",
       "      <td>1tOcYYGHCO0</td>\n",
       "      <td>Elizabeth Filips</td>\n",
       "      <td>You Don't Hate Books: The Reading Habit Gettin...</td>\n",
       "      <td>Join my book club and ad-free educational YouT...</td>\n",
       "      <td>[reading, books, how to read, how to read fast...</td>\n",
       "      <td>2023-02-07 11:30:02+00:00</td>\n",
       "      <td>50177.0</td>\n",
       "      <td>3108.0</td>\n",
       "      <td>NaN</td>\n",
       "      <td>190.0</td>\n",
       "      <td>PT14M41S</td>\n",
       "      <td>hd</td>\n",
       "      <td>false</td>\n",
       "      <td>Tuesday</td>\n",
       "      <td>881.0</td>\n",
       "      <td>9</td>\n",
       "    </tr>\n",
       "    <tr>\n",
       "      <th>2</th>\n",
       "      <td>FzONG60QwzE</td>\n",
       "      <td>Elizabeth Filips</td>\n",
       "      <td>Become a Better Student: The Simple But Clever...</td>\n",
       "      <td>I’m not saying we’re better as medical student...</td>\n",
       "      <td>None</td>\n",
       "      <td>2023-01-23 10:39:42+00:00</td>\n",
       "      <td>128662.0</td>\n",
       "      <td>7593.0</td>\n",
       "      <td>NaN</td>\n",
       "      <td>166.0</td>\n",
       "      <td>PT14M33S</td>\n",
       "      <td>hd</td>\n",
       "      <td>false</td>\n",
       "      <td>Monday</td>\n",
       "      <td>873.0</td>\n",
       "      <td>0</td>\n",
       "    </tr>\n",
       "    <tr>\n",
       "      <th>3</th>\n",
       "      <td>HPYIg4fJgwo</td>\n",
       "      <td>Elizabeth Filips</td>\n",
       "      <td>Multipliers: 5 Easy, High-Leverage Changes I'm...</td>\n",
       "      <td>🧠 To get 20% off the Annual Membership for Bri...</td>\n",
       "      <td>None</td>\n",
       "      <td>2023-01-03 13:27:17+00:00</td>\n",
       "      <td>132437.0</td>\n",
       "      <td>6732.0</td>\n",
       "      <td>NaN</td>\n",
       "      <td>405.0</td>\n",
       "      <td>PT14M9S</td>\n",
       "      <td>hd</td>\n",
       "      <td>false</td>\n",
       "      <td>Tuesday</td>\n",
       "      <td>849.0</td>\n",
       "      <td>0</td>\n",
       "    </tr>\n",
       "    <tr>\n",
       "      <th>4</th>\n",
       "      <td>fi5Dbzxfjvc</td>\n",
       "      <td>Elizabeth Filips</td>\n",
       "      <td>Heal Yourself: 1 Life Formula from 620 Hours o...</td>\n",
       "      <td>Main Relevant links:\\n📚 My Book Club through C...</td>\n",
       "      <td>None</td>\n",
       "      <td>2022-12-13 11:20:55+00:00</td>\n",
       "      <td>409865.0</td>\n",
       "      <td>21991.0</td>\n",
       "      <td>NaN</td>\n",
       "      <td>988.0</td>\n",
       "      <td>PT38M31S</td>\n",
       "      <td>hd</td>\n",
       "      <td>false</td>\n",
       "      <td>Tuesday</td>\n",
       "      <td>2311.0</td>\n",
       "      <td>0</td>\n",
       "    </tr>\n",
       "    <tr>\n",
       "      <th>...</th>\n",
       "      <td>...</td>\n",
       "      <td>...</td>\n",
       "      <td>...</td>\n",
       "      <td>...</td>\n",
       "      <td>...</td>\n",
       "      <td>...</td>\n",
       "      <td>...</td>\n",
       "      <td>...</td>\n",
       "      <td>...</td>\n",
       "      <td>...</td>\n",
       "      <td>...</td>\n",
       "      <td>...</td>\n",
       "      <td>...</td>\n",
       "      <td>...</td>\n",
       "      <td>...</td>\n",
       "      <td>...</td>\n",
       "    </tr>\n",
       "    <tr>\n",
       "      <th>114</th>\n",
       "      <td>vTrq1akLC9A</td>\n",
       "      <td>Elizabeth Filips</td>\n",
       "      <td>STUDY WITH ME: 1h Get Something Done Today</td>\n",
       "      <td>Just going to leave this here for anyone who f...</td>\n",
       "      <td>[Study with me, Work with me, Study with me wi...</td>\n",
       "      <td>2020-11-29 08:54:09+00:00</td>\n",
       "      <td>34978.0</td>\n",
       "      <td>807.0</td>\n",
       "      <td>NaN</td>\n",
       "      <td>81.0</td>\n",
       "      <td>PT1H1M9S</td>\n",
       "      <td>hd</td>\n",
       "      <td>false</td>\n",
       "      <td>Sunday</td>\n",
       "      <td>3669.0</td>\n",
       "      <td>10</td>\n",
       "    </tr>\n",
       "    <tr>\n",
       "      <th>115</th>\n",
       "      <td>42rUMksq4D4</td>\n",
       "      <td>Elizabeth Filips</td>\n",
       "      <td>How I Use Anki Flashcards in Medical School</td>\n",
       "      <td>To Save You Some Time:\\n0:00 - 1- 🌝Intro\\n0:12...</td>\n",
       "      <td>[anki, flashcards, anki flashcards, anki medic...</td>\n",
       "      <td>2020-11-27 13:13:10+00:00</td>\n",
       "      <td>42175.0</td>\n",
       "      <td>1678.0</td>\n",
       "      <td>NaN</td>\n",
       "      <td>95.0</td>\n",
       "      <td>PT3M56S</td>\n",
       "      <td>hd</td>\n",
       "      <td>false</td>\n",
       "      <td>Friday</td>\n",
       "      <td>236.0</td>\n",
       "      <td>16</td>\n",
       "    </tr>\n",
       "    <tr>\n",
       "      <th>116</th>\n",
       "      <td>pakxdMxFEoc</td>\n",
       "      <td>Elizabeth Filips</td>\n",
       "      <td>Medical School Interview Tips</td>\n",
       "      <td>To save you some time:\\n0:00 - Intro - 💁‍♀️ Wh...</td>\n",
       "      <td>[medicine, medical interviews, medicine uk, me...</td>\n",
       "      <td>2020-11-24 12:19:25+00:00</td>\n",
       "      <td>7977.0</td>\n",
       "      <td>305.0</td>\n",
       "      <td>NaN</td>\n",
       "      <td>21.0</td>\n",
       "      <td>PT6M54S</td>\n",
       "      <td>hd</td>\n",
       "      <td>false</td>\n",
       "      <td>Tuesday</td>\n",
       "      <td>414.0</td>\n",
       "      <td>14</td>\n",
       "    </tr>\n",
       "    <tr>\n",
       "      <th>117</th>\n",
       "      <td>HH6as4fXQmg</td>\n",
       "      <td>Elizabeth Filips</td>\n",
       "      <td>How to Take Notes at University with Active Re...</td>\n",
       "      <td>Heya! This is a summary of the methods I've be...</td>\n",
       "      <td>[anki, notion, medical students, medicine, stu...</td>\n",
       "      <td>2020-11-19 10:06:46+00:00</td>\n",
       "      <td>77436.0</td>\n",
       "      <td>3974.0</td>\n",
       "      <td>NaN</td>\n",
       "      <td>145.0</td>\n",
       "      <td>PT5M48S</td>\n",
       "      <td>hd</td>\n",
       "      <td>false</td>\n",
       "      <td>Thursday</td>\n",
       "      <td>348.0</td>\n",
       "      <td>18</td>\n",
       "    </tr>\n",
       "    <tr>\n",
       "      <th>118</th>\n",
       "      <td>T5uLL9Tt8nQ</td>\n",
       "      <td>Elizabeth Filips</td>\n",
       "      <td>Why Students Shouldn't Buy iPads in 2022</td>\n",
       "      <td>Heya, as someone who used the iPad religiously...</td>\n",
       "      <td>[ipad vs laptop, ipad vs macbook, ipad pro vs ...</td>\n",
       "      <td>2020-11-14 11:02:30+00:00</td>\n",
       "      <td>447606.0</td>\n",
       "      <td>10270.0</td>\n",
       "      <td>NaN</td>\n",
       "      <td>865.0</td>\n",
       "      <td>PT8M57S</td>\n",
       "      <td>hd</td>\n",
       "      <td>false</td>\n",
       "      <td>Saturday</td>\n",
       "      <td>537.0</td>\n",
       "      <td>19</td>\n",
       "    </tr>\n",
       "  </tbody>\n",
       "</table>\n",
       "<p>119 rows × 16 columns</p>\n",
       "</div>"
      ],
      "text/plain": [
       "        video_id      channelTitle  \\\n",
       "0    DXveBVRbP0Y  Elizabeth Filips   \n",
       "1    1tOcYYGHCO0  Elizabeth Filips   \n",
       "2    FzONG60QwzE  Elizabeth Filips   \n",
       "3    HPYIg4fJgwo  Elizabeth Filips   \n",
       "4    fi5Dbzxfjvc  Elizabeth Filips   \n",
       "..           ...               ...   \n",
       "114  vTrq1akLC9A  Elizabeth Filips   \n",
       "115  42rUMksq4D4  Elizabeth Filips   \n",
       "116  pakxdMxFEoc  Elizabeth Filips   \n",
       "117  HH6as4fXQmg  Elizabeth Filips   \n",
       "118  T5uLL9Tt8nQ  Elizabeth Filips   \n",
       "\n",
       "                                                 title  \\\n",
       "0    A Day in the Life of a Medical Student in Lond...   \n",
       "1    You Don't Hate Books: The Reading Habit Gettin...   \n",
       "2    Become a Better Student: The Simple But Clever...   \n",
       "3    Multipliers: 5 Easy, High-Leverage Changes I'm...   \n",
       "4    Heal Yourself: 1 Life Formula from 620 Hours o...   \n",
       "..                                                 ...   \n",
       "114         STUDY WITH ME: 1h Get Something Done Today   \n",
       "115        How I Use Anki Flashcards in Medical School   \n",
       "116                      Medical School Interview Tips   \n",
       "117  How to Take Notes at University with Active Re...   \n",
       "118           Why Students Shouldn't Buy iPads in 2022   \n",
       "\n",
       "                                           description  \\\n",
       "0    First day in the life in a LONG time 🫀\\n\\nWHO ...   \n",
       "1    Join my book club and ad-free educational YouT...   \n",
       "2    I’m not saying we’re better as medical student...   \n",
       "3    🧠 To get 20% off the Annual Membership for Bri...   \n",
       "4    Main Relevant links:\\n📚 My Book Club through C...   \n",
       "..                                                 ...   \n",
       "114  Just going to leave this here for anyone who f...   \n",
       "115  To Save You Some Time:\\n0:00 - 1- 🌝Intro\\n0:12...   \n",
       "116  To save you some time:\\n0:00 - Intro - 💁‍♀️ Wh...   \n",
       "117  Heya! This is a summary of the methods I've be...   \n",
       "118  Heya, as someone who used the iPad religiously...   \n",
       "\n",
       "                                                  tags  \\\n",
       "0                                                 None   \n",
       "1    [reading, books, how to read, how to read fast...   \n",
       "2                                                 None   \n",
       "3                                                 None   \n",
       "4                                                 None   \n",
       "..                                                 ...   \n",
       "114  [Study with me, Work with me, Study with me wi...   \n",
       "115  [anki, flashcards, anki flashcards, anki medic...   \n",
       "116  [medicine, medical interviews, medicine uk, me...   \n",
       "117  [anki, notion, medical students, medicine, stu...   \n",
       "118  [ipad vs laptop, ipad vs macbook, ipad pro vs ...   \n",
       "\n",
       "                  publishedAt  viewCount  likeCount  favouriteCount  \\\n",
       "0   2023-02-12 15:21:19+00:00    16165.0     1209.0             NaN   \n",
       "1   2023-02-07 11:30:02+00:00    50177.0     3108.0             NaN   \n",
       "2   2023-01-23 10:39:42+00:00   128662.0     7593.0             NaN   \n",
       "3   2023-01-03 13:27:17+00:00   132437.0     6732.0             NaN   \n",
       "4   2022-12-13 11:20:55+00:00   409865.0    21991.0             NaN   \n",
       "..                        ...        ...        ...             ...   \n",
       "114 2020-11-29 08:54:09+00:00    34978.0      807.0             NaN   \n",
       "115 2020-11-27 13:13:10+00:00    42175.0     1678.0             NaN   \n",
       "116 2020-11-24 12:19:25+00:00     7977.0      305.0             NaN   \n",
       "117 2020-11-19 10:06:46+00:00    77436.0     3974.0             NaN   \n",
       "118 2020-11-14 11:02:30+00:00   447606.0    10270.0             NaN   \n",
       "\n",
       "     commentCount  duration definition caption pushblishDayName  durationSecs  \\\n",
       "0            40.0     PT17S         hd   false           Sunday          17.0   \n",
       "1           190.0  PT14M41S         hd   false          Tuesday         881.0   \n",
       "2           166.0  PT14M33S         hd   false           Monday         873.0   \n",
       "3           405.0   PT14M9S         hd   false          Tuesday         849.0   \n",
       "4           988.0  PT38M31S         hd   false          Tuesday        2311.0   \n",
       "..            ...       ...        ...     ...              ...           ...   \n",
       "114          81.0  PT1H1M9S         hd   false           Sunday        3669.0   \n",
       "115          95.0   PT3M56S         hd   false           Friday         236.0   \n",
       "116          21.0   PT6M54S         hd   false          Tuesday         414.0   \n",
       "117         145.0   PT5M48S         hd   false         Thursday         348.0   \n",
       "118         865.0   PT8M57S         hd   false         Saturday         537.0   \n",
       "\n",
       "     tagCount  \n",
       "0           0  \n",
       "1           9  \n",
       "2           0  \n",
       "3           0  \n",
       "4           0  \n",
       "..        ...  \n",
       "114        10  \n",
       "115        16  \n",
       "116        14  \n",
       "117        18  \n",
       "118        19  \n",
       "\n",
       "[119 rows x 16 columns]"
      ]
     },
     "execution_count": 46,
     "metadata": {},
     "output_type": "execute_result"
    }
   ],
   "source": [
    "video_df"
   ]
  },
  {
   "attachments": {},
   "cell_type": "markdown",
   "metadata": {},
   "source": [
    "# EDA\n",
    "## Best performing videos"
   ]
  },
  {
   "cell_type": "code",
   "execution_count": 47,
   "metadata": {},
   "outputs": [
    {
     "data": {
      "image/png": "[encoded data removed]",
      "text/plain": [
       "<Figure size 640x480 with 1 Axes>"
      ]
     },
     "metadata": {},
     "output_type": "display_data"
    }
   ],
   "source": [
    "ax = sns.barplot(x = 'title', y = 'viewCount', data = video_df.sort_values('viewCount', ascending=False)[0:9])\n",
    "plot = ax.set_xticklabels(ax.get_xticklabels(), rotation=90)\n",
    "ax.yaxis.set_major_formatter(ticker.FuncFormatter(lambda x, pos:'{:,.0f}'.format(x/1000) + 'K'))"
   ]
  },
  {
   "attachments": {},
   "cell_type": "markdown",
   "metadata": {},
   "source": [
    "## Worst performing videos"
   ]
  },
  {
   "cell_type": "code",
   "execution_count": 48,
   "metadata": {},
   "outputs": [
    {
     "data": {
      "image/png": "[encoded data removed]",
      "text/plain": [
       "<Figure size 640x480 with 1 Axes>"
      ]
     },
     "metadata": {},
     "output_type": "display_data"
    }
   ],
   "source": [
    "ax = sns.barplot(x = 'title', y = 'viewCount', data = video_df.sort_values('viewCount', ascending=True)[0:9])\n",
    "plot = ax.set_xticklabels(ax.get_xticklabels(), rotation=90)\n",
    "ax.yaxis.set_major_formatter(ticker.FuncFormatter(lambda x, pos:'{:,.0f}'.format(x/1000) + 'K'))"
   ]
  },
  {
   "attachments": {},
   "cell_type": "markdown",
   "metadata": {},
   "source": [
    "## View distribution per video"
   ]
  },
  {
   "cell_type": "code",
   "execution_count": 49,
   "metadata": {},
   "outputs": [],
   "source": [
    "#sns.violinplot(video_df['channelTitle'], video_df['viewCount'])"
   ]
  },
  {
   "cell_type": "markdown",
   "metadata": {},
   "source": [
    "# Views vs. likes and comments"
   ]
  },
  {
   "cell_type": "code",
   "execution_count": 50,
   "metadata": {},
   "outputs": [
    {
     "data": {
      "text/plain": [
       "<Axes: xlabel='likeCount', ylabel='viewCount'>"
      ]
     },
     "execution_count": 50,
     "metadata": {},
     "output_type": "execute_result"
    },
    {
     "data": {
      "image/png": "[encoded data removed]",
      "text/plain": [
       "<Figure size 640x480 with 2 Axes>"
      ]
     },
     "metadata": {},
     "output_type": "display_data"
    }
   ],
   "source": [
    "fig, ax = plt.subplots(1,2)\n",
    "sns.scatterplot(data = video_df, x = 'commentCount', y = 'viewCount', ax = ax[0])\n",
    "sns.scatterplot(data = video_df, x = 'likeCount', y = 'viewCount', ax = ax[1])"
   ]
  },
  {
   "attachments": {},
   "cell_type": "markdown",
   "metadata": {},
   "source": [
    "## Video duration"
   ]
  },
  {
   "cell_type": "code",
   "execution_count": 51,
   "metadata": {},
   "outputs": [
    {
     "data": {
      "text/plain": [
       "<Axes: xlabel='durationSecs', ylabel='Count'>"
      ]
     },
     "execution_count": 51,
     "metadata": {},
     "output_type": "execute_result"
    },
    {
     "data": {
      "image/png": "[encoded data removed]",
      "text/plain": [
       "<Figure size 640x480 with 1 Axes>"
      ]
     },
     "metadata": {},
     "output_type": "display_data"
    }
   ],
   "source": [
    "sns.histplot(data = video_df, x = 'durationSecs', bins=30)"
   ]
  },
  {
   "attachments": {},
   "cell_type": "markdown",
   "metadata": {},
   "source": [
    "## Upload schedule"
   ]
  },
  {
   "cell_type": "code",
   "execution_count": 52,
   "metadata": {},
   "outputs": [
    {
     "data": {
      "image/png": "[encoded data removed]",
      "text/plain": [
       "<Figure size 640x480 with 1 Axes>"
      ]
     },
     "metadata": {},
     "output_type": "display_data"
    }
   ],
   "source": [
    "day_df = pd.DataFrame(video_df['pushblishDayName'].value_counts())\n",
    "weekdays = [ 'Monday', 'Tuesday', 'Wednesday', 'Thursday', 'Friday', 'Saturday', 'Sunday']\n",
    "day_df = day_df.reindex(weekdays)\n",
    "ax = day_df.reset_index().plot.bar(x='index', y='pushblishDayName', rot=0)"
   ]
  }
 ],
 "metadata": {
  "kernelspec": {
   "display_name": "Python 3",
   "language": "python",
   "name": "python3"
  },
  "language_info": {
   "codemirror_mode": {
    "name": "ipython",
    "version": 3
   },
   "file_extension": ".py",
   "mimetype": "text/x-python",
   "name": "python",
   "nbconvert_exporter": "python",
   "pygments_lexer": "ipython3",
   "version": "3.11.1"
  },
  "orig_nbformat": 4,
  "vscode": {
   "interpreter": {
    "hash": "28f17846d8da952c5c0ba0b6a7ac0a83f6cc7ba932a9e1ecc57983e8f99a4182"
   }
  }
 },
 "nbformat": 4,
 "nbformat_minor": 2
}
